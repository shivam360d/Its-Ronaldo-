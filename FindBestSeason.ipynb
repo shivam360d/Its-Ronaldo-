{
 "cells": [
  {
   "cell_type": "code",
   "execution_count": 1,
   "metadata": {},
   "outputs": [],
   "source": [
    "import numpy as np\n",
    "import pandas as pd\n",
    "import matplotlib.pyplot as plt"
   ]
  },
  {
   "cell_type": "code",
   "execution_count": 8,
   "metadata": {},
   "outputs": [],
   "source": [
    "# Reading data\n",
    "data = pd.read_csv('/home/shivam/Downloads/data.csv')"
   ]
  },
  {
   "cell_type": "code",
   "execution_count": 9,
   "metadata": {},
   "outputs": [],
   "source": [
    "# Filtering out unwanted values\n",
    "data = data[data.is_goal.isnull()==False]\n",
    "data = data[data.is_goal==1.0]\n",
    "data = data[data.game_season.isnull()==False]"
   ]
  },
  {
   "cell_type": "code",
   "execution_count": 10,
   "metadata": {},
   "outputs": [],
   "source": [
    "# Making Game_season suitable for computation\n",
    "data.game_season = data.game_season.str.split('-').str[0]"
   ]
  },
  {
   "cell_type": "code",
   "execution_count": 11,
   "metadata": {},
   "outputs": [],
   "source": [
    "# Extracting out years\n",
    "seasons,Index = np.unique(data.game_season,return_index=True)"
   ]
  },
  {
   "cell_type": "code",
   "execution_count": 12,
   "metadata": {},
   "outputs": [
    {
     "name": "stdout",
     "output_type": "stream",
     "text": [
      "Best Season with respect to goals scored:  2005\n",
      "Worst Season with respect to goals scored:  2013\n"
     ]
    }
   ],
   "source": [
    "goals=np.empty([0,1],dtype=float)\n",
    "for season in seasons:\n",
    "    goals=np.append(goals,data.is_goal[data.game_season==season].sum())\n",
    "goalsMax=goals.max()\n",
    "goalsMin=goals.min()\n",
    "print(\"Best Season with respect to goals scored: \",seasons[np.where(goals==goalsMax)][0])\n",
    "print(\"Worst Season with respect to goals scored: \",seasons[np.where(goals==goalsMin)][0])"
   ]
  },
  {
   "cell_type": "code",
   "execution_count": 15,
   "metadata": {},
   "outputs": [
    {
     "data": {
      "image/png": "[encoded data removed]",
      "text/plain": [
       "<Figure size 432x288 with 1 Axes>"
      ]
     },
     "metadata": {
      "needs_background": "light"
     },
     "output_type": "display_data"
    }
   ],
   "source": [
    "plt.bar(seasons,goals,width=0.9,color=\"green\")\n",
    "plt.xticks(rotation=60)\n",
    "plt.xlabel('Seasons')\n",
    "plt.ylabel('Goals')\n",
    "plt.title('Goals VS. Seasons')\n",
    "plt.show()"
   ]
  },
  {
   "cell_type": "code",
   "execution_count": null,
   "metadata": {},
   "outputs": [],
   "source": []
  }
 ],
 "metadata": {
  "kernelspec": {
   "display_name": "Python 3",
   "language": "python",
   "name": "python3"
  },
  "language_info": {
   "codemirror_mode": {
    "name": "ipython",
    "version": 3
   },
   "file_extension": ".py",
   "mimetype": "text/x-python",
   "name": "python",
   "nbconvert_exporter": "python",
   "pygments_lexer": "ipython3",
   "version": "3.7.3"
  }
 },
 "nbformat": 4,
 "nbformat_minor": 2
}
